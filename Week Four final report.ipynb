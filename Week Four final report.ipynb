{
 "cells": [
  {
   "cell_type": "markdown",
   "metadata": {},
   "source": [
    "## Introduction"
   ]
  },
  {
   "cell_type": "markdown",
   "metadata": {},
   "source": [
    "Comparing cities together is a very good way to understand each city and to know the pros and cons of each one. Comparing two cities together in respect to the venues that each city contains would give us a great view about each one, which one would be the best to live in, which would you build your business in and which would you take your tour or just hang out in."
   ]
  },
  {
   "cell_type": "markdown",
   "metadata": {},
   "source": [
    "## Business Problem"
   ]
  },
  {
   "cell_type": "markdown",
   "metadata": {},
   "source": [
    "The objective of this project is to compare two cities, such as Toronto and New York in respect to their venues, so that we can know the similarities and difference between them and which one is better in many aspects. By such comparison, we could understand each city and make recommendations based on that idea."
   ]
  },
  {
   "cell_type": "markdown",
   "metadata": {
    "collapsed": true
   },
   "source": [
    "## Data"
   ]
  },
  {
   "cell_type": "markdown",
   "metadata": {},
   "source": [
    "In this project, neighborhood of New York city would be the data used to compare between the city and Toronto which we already have its neighborhood data. \n",
    "\n",
    "We can get our dataset from Wikipedia website, specially that URL(https://en.wikipedia.org/wiki/Neighborhoods_in_New_York_City).\n",
    "\n",
    "Community Boards in New York City table would be our raw data specially the Neighborhoods column. Such table could be scraped using BeautifulSoup library after inspecting the website to know its class.\n",
    "\n",
    "After that, the geographical coordinates of the neighborhoods would be required and we could use Python Geocoder library for such purpose to obtain the latitude and longtiude coordinates for the neighbourhood. \n",
    "\n",
    "Finally, when the data is reprocessed and ready, Foursqure API could be used to get venues data of each neighbourhood which would be the base of the comparison between New York city and Toronto."
   ]
  },
  {
   "cell_type": "code",
   "execution_count": null,
   "metadata": {
    "collapsed": true
   },
   "outputs": [],
   "source": []
  }
 ],
 "metadata": {
  "kernelspec": {
   "display_name": "Python 3",
   "language": "python",
   "name": "python3"
  },
  "language_info": {
   "codemirror_mode": {
    "name": "ipython",
    "version": 3
   },
   "file_extension": ".py",
   "mimetype": "text/x-python",
   "name": "python",
   "nbconvert_exporter": "python",
   "pygments_lexer": "ipython3",
   "version": "3.6.2"
  }
 },
 "nbformat": 4,
 "nbformat_minor": 2
}
